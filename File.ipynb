{
 "metadata": {
  "language_info": {
   "codemirror_mode": {
    "name": "ipython",
    "version": 3
   },
   "file_extension": ".py",
   "mimetype": "text/x-python",
   "name": "python",
   "nbconvert_exporter": "python",
   "pygments_lexer": "ipython3",
   "version": "3.8.5-final"
  },
  "orig_nbformat": 2,
  "kernelspec": {
   "name": "python3",
   "display_name": "Python 3.8.5 64-bit (conda)",
   "metadata": {
    "interpreter": {
     "hash": "ecf5722fdaf1897a315d257d89d94520bfcaa453217d5becf09b39e73618b0de"
    }
   }
  }
 },
 "nbformat": 4,
 "nbformat_minor": 2,
 "cells": [
  {
   "cell_type": "code",
   "execution_count": 29,
   "metadata": {},
   "outputs": [
    {
     "output_type": "execute_result",
     "data": {
      "text/plain": [
       "                       Vendedor         Doc       Fecha          Nombres  \\\n",
       "0  YOLEISY YOHANA POCHEZ PAREJO  FV R 11578  07/01/2020  Cliente General   \n",
       "1                           NaN  FV R 11578  07/01/2020  Cliente General   \n",
       "2                           NaN  FV R 11578  07/01/2020  Cliente General   \n",
       "3                           NaN  FV R 11578  07/01/2020  Cliente General   \n",
       "4                           NaN  FV R 11578  07/01/2020  Cliente General   \n",
       "\n",
       "   Unidades Unitario Venta     Ventas Costo Unitario Total Costo    Margen  \\\n",
       "0       4.0       2,016.81   8,067.23       1,445.19    5,780.78  2,286.45   \n",
       "1       1.0      15,168.07  15,168.07      12,132.58   12,132.58  3,035.48   \n",
       "2       1.0      12,184.87  12,184.87       8,585.35    8,585.35  3,599.53   \n",
       "3       2.0      11,344.54  22,689.08       8,585.35   17,170.70  5,518.38   \n",
       "4       1.0      17,983.19  17,983.19      13,016.81   13,016.81  4,966.38   \n",
       "\n",
       "   PorMargen    Codigo               Descripcion  \n",
       "0       0.28  10012541    DISCO SEPARADOR CLUTCH  \n",
       "1       0.20  10012780    CADENILLA DISTRIBUCION  \n",
       "2       0.30  10012919    BANDA FRENO DEL Y TRAS  \n",
       "3       0.24  10012919    BANDA FRENO DEL Y TRAS  \n",
       "4       0.28  10015076  KIT GUIAS CADENILLA DIST  "
      ],
      "text/html": "<div>\n<style scoped>\n    .dataframe tbody tr th:only-of-type {\n        vertical-align: middle;\n    }\n\n    .dataframe tbody tr th {\n        vertical-align: top;\n    }\n\n    .dataframe thead th {\n        text-align: right;\n    }\n</style>\n<table border=\"1\" class=\"dataframe\">\n  <thead>\n    <tr style=\"text-align: right;\">\n      <th></th>\n      <th>Vendedor</th>\n      <th>Doc</th>\n      <th>Fecha</th>\n      <th>Nombres</th>\n      <th>Unidades</th>\n      <th>Unitario Venta</th>\n      <th>Ventas</th>\n      <th>Costo Unitario</th>\n      <th>Total Costo</th>\n      <th>Margen</th>\n      <th>PorMargen</th>\n      <th>Codigo</th>\n      <th>Descripcion</th>\n    </tr>\n  </thead>\n  <tbody>\n    <tr>\n      <th>0</th>\n      <td>YOLEISY YOHANA POCHEZ PAREJO</td>\n      <td>FV R 11578</td>\n      <td>07/01/2020</td>\n      <td>Cliente General</td>\n      <td>4.0</td>\n      <td>2,016.81</td>\n      <td>8,067.23</td>\n      <td>1,445.19</td>\n      <td>5,780.78</td>\n      <td>2,286.45</td>\n      <td>0.28</td>\n      <td>10012541</td>\n      <td>DISCO SEPARADOR CLUTCH</td>\n    </tr>\n    <tr>\n      <th>1</th>\n      <td>NaN</td>\n      <td>FV R 11578</td>\n      <td>07/01/2020</td>\n      <td>Cliente General</td>\n      <td>1.0</td>\n      <td>15,168.07</td>\n      <td>15,168.07</td>\n      <td>12,132.58</td>\n      <td>12,132.58</td>\n      <td>3,035.48</td>\n      <td>0.20</td>\n      <td>10012780</td>\n      <td>CADENILLA DISTRIBUCION</td>\n    </tr>\n    <tr>\n      <th>2</th>\n      <td>NaN</td>\n      <td>FV R 11578</td>\n      <td>07/01/2020</td>\n      <td>Cliente General</td>\n      <td>1.0</td>\n      <td>12,184.87</td>\n      <td>12,184.87</td>\n      <td>8,585.35</td>\n      <td>8,585.35</td>\n      <td>3,599.53</td>\n      <td>0.30</td>\n      <td>10012919</td>\n      <td>BANDA FRENO DEL Y TRAS</td>\n    </tr>\n    <tr>\n      <th>3</th>\n      <td>NaN</td>\n      <td>FV R 11578</td>\n      <td>07/01/2020</td>\n      <td>Cliente General</td>\n      <td>2.0</td>\n      <td>11,344.54</td>\n      <td>22,689.08</td>\n      <td>8,585.35</td>\n      <td>17,170.70</td>\n      <td>5,518.38</td>\n      <td>0.24</td>\n      <td>10012919</td>\n      <td>BANDA FRENO DEL Y TRAS</td>\n    </tr>\n    <tr>\n      <th>4</th>\n      <td>NaN</td>\n      <td>FV R 11578</td>\n      <td>07/01/2020</td>\n      <td>Cliente General</td>\n      <td>1.0</td>\n      <td>17,983.19</td>\n      <td>17,983.19</td>\n      <td>13,016.81</td>\n      <td>13,016.81</td>\n      <td>4,966.38</td>\n      <td>0.28</td>\n      <td>10015076</td>\n      <td>KIT GUIAS CADENILLA DIST</td>\n    </tr>\n  </tbody>\n</table>\n</div>"
     },
     "metadata": {},
     "execution_count": 29
    }
   ],
   "source": [
    "import pandas as pd\n",
    "dataset = pd.read_csv(r'./INFORME INVENTARIOS.csv', skiprows=3, header=0, )\n",
    "\n",
    "code_des = dataset['CódigoInventario'].str.split(' ', n=1, expand=True )\n",
    "dataset['Codigo'] = code_des[0]\n",
    "dataset['Descripcion'] = code_des[1]\n",
    "dataset.drop(columns=['CódigoInventario'], inplace=True)\n",
    "\n",
    "dataset.to_csv('dataset.csv')\n",
    "dataset.head()"
   ]
  }
 ]
}