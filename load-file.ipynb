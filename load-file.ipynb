{
 "metadata": {
  "language_info": {
   "codemirror_mode": {
    "name": "ipython",
    "version": 3
   },
   "file_extension": ".py",
   "mimetype": "text/x-python",
   "name": "python",
   "nbconvert_exporter": "python",
   "pygments_lexer": "ipython3",
   "version": "3.8.5-final"
  },
  "orig_nbformat": 2,
  "kernelspec": {
   "name": "python3",
   "display_name": "Python 3",
   "language": "python"
  }
 },
 "nbformat": 4,
 "nbformat_minor": 2,
 "cells": [
  {
   "cell_type": "code",
   "execution_count": 2,
   "metadata": {},
   "outputs": [],
   "source": [
    "import pandas as pd\n",
    "import json\n",
    "import os"
   ]
  },
  {
   "cell_type": "code",
   "execution_count": 53,
   "metadata": {},
   "outputs": [
    {
     "output_type": "stream",
     "name": "stdout",
     "text": [
      "Archivo no contiene las columnas necesarias\nSe separó la columna \"CódigoInventario\"\n"
     ]
    },
    {
     "output_type": "execute_result",
     "data": {
      "text/plain": [
       "                       Vendedor         Doc       Fecha          Nombres  \\\n",
       "0  YOLEISY YOHANA POCHEZ PAREJO  FV R 11578  07/01/2020  Cliente General   \n",
       "1                           NaN  FV R 11578  07/01/2020  Cliente General   \n",
       "2                           NaN  FV R 11578  07/01/2020  Cliente General   \n",
       "3                           NaN  FV R 11578  07/01/2020  Cliente General   \n",
       "4                           NaN  FV R 11578  07/01/2020  Cliente General   \n",
       "\n",
       "   Unidades  Unitario Venta    Ventas  Costo Unitario  Costo Total   Margen  \\\n",
       "0       4.0         2016.81   8067.23         1445.19      5780.78  2286.45   \n",
       "1       1.0        15168.07  15168.07        12132.58     12132.58  3035.48   \n",
       "2       1.0        12184.87  12184.87         8585.35      8585.35  3599.53   \n",
       "3       2.0        11344.54  22689.08         8585.35     17170.70  5518.38   \n",
       "4       1.0        17983.19  17983.19        13016.81     13016.81  4966.38   \n",
       "\n",
       "   PorMargen    Codigo               Descripcion  \n",
       "0       0.28  10012541    DISCO SEPARADOR CLUTCH  \n",
       "1       0.20  10012780    CADENILLA DISTRIBUCION  \n",
       "2       0.30  10012919    BANDA FRENO DEL Y TRAS  \n",
       "3       0.24  10012919    BANDA FRENO DEL Y TRAS  \n",
       "4       0.28  10015076  KIT GUIAS CADENILLA DIST  "
      ],
      "text/html": "<div>\n<style scoped>\n    .dataframe tbody tr th:only-of-type {\n        vertical-align: middle;\n    }\n\n    .dataframe tbody tr th {\n        vertical-align: top;\n    }\n\n    .dataframe thead th {\n        text-align: right;\n    }\n</style>\n<table border=\"1\" class=\"dataframe\">\n  <thead>\n    <tr style=\"text-align: right;\">\n      <th></th>\n      <th>Vendedor</th>\n      <th>Doc</th>\n      <th>Fecha</th>\n      <th>Nombres</th>\n      <th>Unidades</th>\n      <th>Unitario Venta</th>\n      <th>Ventas</th>\n      <th>Costo Unitario</th>\n      <th>Costo Total</th>\n      <th>Margen</th>\n      <th>PorMargen</th>\n      <th>Codigo</th>\n      <th>Descripcion</th>\n    </tr>\n  </thead>\n  <tbody>\n    <tr>\n      <th>0</th>\n      <td>YOLEISY YOHANA POCHEZ PAREJO</td>\n      <td>FV R 11578</td>\n      <td>07/01/2020</td>\n      <td>Cliente General</td>\n      <td>4.0</td>\n      <td>2016.81</td>\n      <td>8067.23</td>\n      <td>1445.19</td>\n      <td>5780.78</td>\n      <td>2286.45</td>\n      <td>0.28</td>\n      <td>10012541</td>\n      <td>DISCO SEPARADOR CLUTCH</td>\n    </tr>\n    <tr>\n      <th>1</th>\n      <td>NaN</td>\n      <td>FV R 11578</td>\n      <td>07/01/2020</td>\n      <td>Cliente General</td>\n      <td>1.0</td>\n      <td>15168.07</td>\n      <td>15168.07</td>\n      <td>12132.58</td>\n      <td>12132.58</td>\n      <td>3035.48</td>\n      <td>0.20</td>\n      <td>10012780</td>\n      <td>CADENILLA DISTRIBUCION</td>\n    </tr>\n    <tr>\n      <th>2</th>\n      <td>NaN</td>\n      <td>FV R 11578</td>\n      <td>07/01/2020</td>\n      <td>Cliente General</td>\n      <td>1.0</td>\n      <td>12184.87</td>\n      <td>12184.87</td>\n      <td>8585.35</td>\n      <td>8585.35</td>\n      <td>3599.53</td>\n      <td>0.30</td>\n      <td>10012919</td>\n      <td>BANDA FRENO DEL Y TRAS</td>\n    </tr>\n    <tr>\n      <th>3</th>\n      <td>NaN</td>\n      <td>FV R 11578</td>\n      <td>07/01/2020</td>\n      <td>Cliente General</td>\n      <td>2.0</td>\n      <td>11344.54</td>\n      <td>22689.08</td>\n      <td>8585.35</td>\n      <td>17170.70</td>\n      <td>5518.38</td>\n      <td>0.24</td>\n      <td>10012919</td>\n      <td>BANDA FRENO DEL Y TRAS</td>\n    </tr>\n    <tr>\n      <th>4</th>\n      <td>NaN</td>\n      <td>FV R 11578</td>\n      <td>07/01/2020</td>\n      <td>Cliente General</td>\n      <td>1.0</td>\n      <td>17983.19</td>\n      <td>17983.19</td>\n      <td>13016.81</td>\n      <td>13016.81</td>\n      <td>4966.38</td>\n      <td>0.28</td>\n      <td>10015076</td>\n      <td>KIT GUIAS CADENILLA DIST</td>\n    </tr>\n  </tbody>\n</table>\n</div>"
     },
     "metadata": {},
     "execution_count": 53
    }
   ],
   "source": [
    "# READ FILE\n",
    "uploaded_file = \"Informes de ventas.csv\"\n",
    "df = pd.read_csv(uploaded_file,  decimal=\".\", header=0, thousands=r\",\")\n",
    "# df.drop(columns='Unnamed: 0')\n",
    "\n",
    "cols_must_be = ['Fecha', 'Unidades', 'Unitario Venta', 'Ventas', 'Costo Unitario', 'Costo Total', 'Margen', 'PorMargen', 'Codigo', 'Descripcion']\n",
    "\n",
    "needed_cols = ['Fecha', 'Unidades', 'Unitario Venta', 'Ventas', 'Costo Unitario', 'Costo Total', 'Margen', 'PorMargen']\n",
    "\n",
    "try:df[cols_must_be]\n",
    "except: \n",
    "    \n",
    "    try:df[cols_must_be]\n",
    "    except:\n",
    "        \n",
    "        try: df[needed_cols]\n",
    "        except: \n",
    "            print('Archivo tiene mal alguna columna')\n",
    "            for col  in needed_cols:\n",
    "                try: df[col]\n",
    "                except: print(f'no se encontró la columna {col}' )\n",
    "        else:\n",
    "            try: df['CódigoInventario']\n",
    "            except:\n",
    "                print('archivo tampoco contiene columna \"CódigoInventario\"')\n",
    "            else:\n",
    "                code_des = df['CódigoInventario'].str.split(' ', n=1, expand=True )\n",
    "                print('Se separó la columna \"CódigoInventario\"')\n",
    "else: print('Archivo contiene columnas correctas')\n",
    "\n",
    "df['Codigo'] = code_des[0]\n",
    "df['Descripcion'] = code_des[1]\n",
    "if df['CódigoInventario']:\n",
    "    df.drop(columns=['CódigoInventario'], inplace=True)\n",
    "df.to_csv(\"archivo cargado.csv\")\n",
    "\n",
    "df.head()"
   ]
  },
  {
   "cell_type": "code",
   "execution_count": 54,
   "metadata": {},
   "outputs": [
    {
     "output_type": "stream",
     "name": "stdout",
     "text": [
      "1\nArchivo no contiene las columnas necesarias\nSe separó la columna \"CódigoInventario\"\n"
     ]
    },
    {
     "output_type": "execute_result",
     "data": {
      "text/plain": [
       "                       Vendedor         Doc       Fecha          Nombres  \\\n",
       "0  YOLEISY YOHANA POCHEZ PAREJO  FV R 11578  07/01/2020  Cliente General   \n",
       "1                           NaN  FV R 11578  07/01/2020  Cliente General   \n",
       "2                           NaN  FV R 11578  07/01/2020  Cliente General   \n",
       "3                           NaN  FV R 11578  07/01/2020  Cliente General   \n",
       "4                           NaN  FV R 11578  07/01/2020  Cliente General   \n",
       "\n",
       "   Unidades  Unitario Venta    Ventas  Costo Unitario  Costo Total   Margen  \\\n",
       "0       4.0         2016.81   8067.23         1445.19      5780.78  2286.45   \n",
       "1       1.0        15168.07  15168.07        12132.58     12132.58  3035.48   \n",
       "2       1.0        12184.87  12184.87         8585.35      8585.35  3599.53   \n",
       "3       2.0        11344.54  22689.08         8585.35     17170.70  5518.38   \n",
       "4       1.0        17983.19  17983.19        13016.81     13016.81  4966.38   \n",
       "\n",
       "   PorMargen    Codigo               Descripcion  \n",
       "0       0.28  10012541    DISCO SEPARADOR CLUTCH  \n",
       "1       0.20  10012780    CADENILLA DISTRIBUCION  \n",
       "2       0.30  10012919    BANDA FRENO DEL Y TRAS  \n",
       "3       0.24  10012919    BANDA FRENO DEL Y TRAS  \n",
       "4       0.28  10015076  KIT GUIAS CADENILLA DIST  "
      ],
      "text/html": "<div>\n<style scoped>\n    .dataframe tbody tr th:only-of-type {\n        vertical-align: middle;\n    }\n\n    .dataframe tbody tr th {\n        vertical-align: top;\n    }\n\n    .dataframe thead th {\n        text-align: right;\n    }\n</style>\n<table border=\"1\" class=\"dataframe\">\n  <thead>\n    <tr style=\"text-align: right;\">\n      <th></th>\n      <th>Vendedor</th>\n      <th>Doc</th>\n      <th>Fecha</th>\n      <th>Nombres</th>\n      <th>Unidades</th>\n      <th>Unitario Venta</th>\n      <th>Ventas</th>\n      <th>Costo Unitario</th>\n      <th>Costo Total</th>\n      <th>Margen</th>\n      <th>PorMargen</th>\n      <th>Codigo</th>\n      <th>Descripcion</th>\n    </tr>\n  </thead>\n  <tbody>\n    <tr>\n      <th>0</th>\n      <td>YOLEISY YOHANA POCHEZ PAREJO</td>\n      <td>FV R 11578</td>\n      <td>07/01/2020</td>\n      <td>Cliente General</td>\n      <td>4.0</td>\n      <td>2016.81</td>\n      <td>8067.23</td>\n      <td>1445.19</td>\n      <td>5780.78</td>\n      <td>2286.45</td>\n      <td>0.28</td>\n      <td>10012541</td>\n      <td>DISCO SEPARADOR CLUTCH</td>\n    </tr>\n    <tr>\n      <th>1</th>\n      <td>NaN</td>\n      <td>FV R 11578</td>\n      <td>07/01/2020</td>\n      <td>Cliente General</td>\n      <td>1.0</td>\n      <td>15168.07</td>\n      <td>15168.07</td>\n      <td>12132.58</td>\n      <td>12132.58</td>\n      <td>3035.48</td>\n      <td>0.20</td>\n      <td>10012780</td>\n      <td>CADENILLA DISTRIBUCION</td>\n    </tr>\n    <tr>\n      <th>2</th>\n      <td>NaN</td>\n      <td>FV R 11578</td>\n      <td>07/01/2020</td>\n      <td>Cliente General</td>\n      <td>1.0</td>\n      <td>12184.87</td>\n      <td>12184.87</td>\n      <td>8585.35</td>\n      <td>8585.35</td>\n      <td>3599.53</td>\n      <td>0.30</td>\n      <td>10012919</td>\n      <td>BANDA FRENO DEL Y TRAS</td>\n    </tr>\n    <tr>\n      <th>3</th>\n      <td>NaN</td>\n      <td>FV R 11578</td>\n      <td>07/01/2020</td>\n      <td>Cliente General</td>\n      <td>2.0</td>\n      <td>11344.54</td>\n      <td>22689.08</td>\n      <td>8585.35</td>\n      <td>17170.70</td>\n      <td>5518.38</td>\n      <td>0.24</td>\n      <td>10012919</td>\n      <td>BANDA FRENO DEL Y TRAS</td>\n    </tr>\n    <tr>\n      <th>4</th>\n      <td>NaN</td>\n      <td>FV R 11578</td>\n      <td>07/01/2020</td>\n      <td>Cliente General</td>\n      <td>1.0</td>\n      <td>17983.19</td>\n      <td>17983.19</td>\n      <td>13016.81</td>\n      <td>13016.81</td>\n      <td>4966.38</td>\n      <td>0.28</td>\n      <td>10015076</td>\n      <td>KIT GUIAS CADENILLA DIST</td>\n    </tr>\n  </tbody>\n</table>\n</div>"
     },
     "metadata": {},
     "execution_count": 54
    }
   ],
   "source": [
    "# LOAD FILE WITH SYNONYMS COLS\n",
    "\n",
    "uploaded_file = \"Informes de ventas.csv\"\n",
    "df = pd.read_csv(uploaded_file,  decimal=\".\", header=0, thousands=r\",\")\n",
    "synonyms_cols = {'Total Costo': 'Costo Total'}\n",
    "print(len(synonyms_cols))\n",
    "\n",
    "cols_must_be = ['Fecha', 'Unidades', 'Unitario Venta', 'Ventas', 'Costo Unitario', 'Costo Total', 'Margen', 'PorMargen', 'Codigo', 'Descripcion']\n",
    "\n",
    "needed_cols = ['Fecha', 'Unidades', 'Unitario Venta', 'Ventas', 'Costo Unitario', 'Costo Total', 'Margen', 'PorMargen']\n",
    "\n",
    "try:df[cols_must_be]\n",
    "except: \n",
    "    print('Archivo no contiene las columnas necesarias')\n",
    "    if len(synonyms_cols) > 0:\n",
    "        for key, value in synonyms_cols.items():\n",
    "            try:df = df.rename(columns={key:value})\n",
    "            except:print(f'fallo al intentar cambiar columna {key} a {value}')\n",
    "    \n",
    "    try:df[cols_must_be]\n",
    "    except:\n",
    "        \n",
    "        try: df[needed_cols]\n",
    "        except: \n",
    "            print('Archivo tiene mal alguna columna')\n",
    "            for col  in needed_cols:\n",
    "                try: df[col]\n",
    "                except: print(f'no se encontró la columna {col}' )\n",
    "        else:\n",
    "            try: df['CódigoInventario']\n",
    "            except:\n",
    "                print('archivo tampoco contiene columna \"CódigoInventario\"')\n",
    "            else:\n",
    "                code_des = df['CódigoInventario'].str.split(' ', n=1, expand=True )\n",
    "                print('Se separó la columna \"CódigoInventario\"')\n",
    "else: print('Archivo contiene columnas correctas')\n",
    "\n",
    "df['Codigo'] = code_des[0]\n",
    "df['Descripcion'] = code_des[1]\n",
    "df.drop(columns=['CódigoInventario'], inplace=True)\n",
    "df.to_csv(\"archivo cargado.csv\")\n",
    "\n",
    "df.head()"
   ]
  },
  {
   "cell_type": "code",
   "execution_count": 43,
   "metadata": {
    "tags": []
   },
   "outputs": [
    {
     "output_type": "stream",
     "name": "stdout",
     "text": [
      "Lista creada\n"
     ]
    }
   ],
   "source": [
    "# FILTER LIST and CREATE JSON LIST\n",
    "products_list = df[['Codigo', 'Descripcion']]\n",
    "products_list = products_list.drop_duplicates(subset=['Codigo']).dropna()\n",
    "products_list['Descripcion'] = products_list['Descripcion'].str.strip()\n",
    "\n",
    "print('Lista creada')\n",
    "products_list.head()\n",
    "\n",
    "loadfile_result = products_list.to_json(orient=\"table\")\n",
    "count = products_list.describe()['Codigo']['count']\n",
    "\n",
    "result_data = {\n",
    "            'total_count': int(count),\n",
    "            'lista_productos':loadfile_result\n",
    "        }\n"
   ]
  }
 ]
}